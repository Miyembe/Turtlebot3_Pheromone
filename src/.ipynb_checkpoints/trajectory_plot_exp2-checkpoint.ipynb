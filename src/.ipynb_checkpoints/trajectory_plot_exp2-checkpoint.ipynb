{
 "cells": [
  {
   "cell_type": "code",
   "execution_count": 44,
   "metadata": {},
   "outputs": [],
   "source": [
    "import numpy as np\n",
    "import pandas as pd\n",
    "import matplotlib.pyplot as plt\n",
    "from mpl_toolkits.mplot3d import Axes3D\n",
    "import seaborn as sns"
   ]
  },
  {
   "cell_type": "code",
   "execution_count": 45,
   "metadata": {},
   "outputs": [],
   "source": [
    "#data = pd.read_csv(\"~/catkin_ws/src/Turtlebot3_Pheromone/src/log/csv/manual_2_20210128-230301_traj.csv\")"
   ]
  },
  {
   "cell_type": "code",
   "execution_count": 46,
   "metadata": {},
   "outputs": [
    {
     "name": "stdout",
     "output_type": "stream",
     "text": [
      "    time  ID     x     y\n",
      "0    0.5   0  2.32  0.75\n",
      "1    0.5   1 -2.32 -0.76\n",
      "2    1.0   0  2.14  0.66\n",
      "3    1.0   1 -2.14 -0.70\n",
      "4    1.5   0  1.94  0.51\n",
      "5    1.5   1 -1.90 -0.63\n",
      "6    2.0   0  1.74  0.37\n",
      "7    2.0   1 -1.67 -0.55\n",
      "8    2.5   0  1.53  0.23\n",
      "9    2.5   1 -1.43 -0.47\n",
      "10   3.0   0  1.33  0.08\n",
      "11   3.0   1 -1.19 -0.39\n",
      "12   3.5   0  1.12 -0.06\n",
      "13   3.5   1 -0.95 -0.32\n",
      "14   4.0   0  0.92 -0.21\n",
      "15   4.0   1 -0.71 -0.24\n",
      "16   4.5   0  0.76 -0.36\n",
      "17   4.5   1 -0.52 -0.13\n",
      "18   5.0   0  0.75 -0.54\n",
      "19   5.0   1 -0.47  0.05\n",
      "20   5.5   0  0.84 -0.73\n",
      "21   5.5   1 -0.49  0.27\n",
      "22   6.0   0  0.87 -0.98\n",
      "23   6.0   1 -0.42  0.51\n",
      "24   6.5   0  0.78 -1.21\n",
      "25   6.5   1 -0.25  0.69\n",
      "26   7.0   0  0.58 -1.37\n",
      "27   7.0   1  0.00  0.76\n",
      "28   7.5   0  0.34 -1.42\n",
      "29   7.5   1  0.25  0.76\n",
      "30   8.0   0  0.10 -1.38\n",
      "31   8.0   1  0.49  0.76\n",
      "32   8.5   0 -0.14 -1.32\n",
      "33   8.5   1  0.74  0.77\n",
      "34   9.0   0 -0.39 -1.26\n",
      "35   9.0   1  0.99  0.77\n",
      "36   9.5   0 -0.63 -1.20\n",
      "37   9.5   1  1.24  0.77\n",
      "38  10.0   0 -0.87 -1.14\n",
      "39  10.0   1  1.49  0.77\n",
      "40  10.5   0 -1.11 -1.08\n",
      "41  10.5   1  1.74  0.77\n",
      "42  11.0   0 -1.36 -1.02\n",
      "43  11.0   1  2.00  0.77\n",
      "44  11.5   0 -1.60 -0.96\n",
      "45  11.5   1  2.24  0.77\n",
      "46  12.0   0 -1.84 -0.90\n",
      "47  12.0   1  2.37  0.77\n",
      "48  12.5   0 -2.09 -0.84\n",
      "49  12.5   1  2.39  0.77\n"
     ]
    }
   ],
   "source": [
    "print(data)\n",
    "num = 2\n",
    "new_data = [None]*num\n",
    "for i in range(num):\n",
    "    new_data[i] = data[data[\"ID\"] == i]\n",
    "    new_data[i] = new_data[i][[\"time\",\"ID\", \"x\", \"y\"]]\n"
   ]
  },
  {
   "cell_type": "code",
   "execution_count": 98,
   "metadata": {},
   "outputs": [
    {
     "data": {
      "image/png": "[encoded data removed]",
      "text/plain": [
       "<Figure size 432x288 with 1 Axes>"
      ]
     },
     "metadata": {},
     "output_type": "display_data"
    }
   ],
   "source": [
    "sns.set(style=\"white\")\n",
    "traj_plot = sns.lineplot(data=new_data[0], x=\"x\", y=\"y\")"
   ]
  },
  {
   "cell_type": "code",
   "execution_count": 146,
   "metadata": {},
   "outputs": [
    {
     "ename": "TypeError",
     "evalue": "__init__() got an unexpected keyword argument 'markersize'",
     "output_type": "error",
     "traceback": [
      "\u001b[0;31m---------------------------------------------------------------------------\u001b[0m",
      "\u001b[0;31mTypeError\u001b[0m                                 Traceback (most recent call last)",
      "\u001b[0;32m<ipython-input-146-4e22fea416a0>\u001b[0m in \u001b[0;36m<module>\u001b[0;34m()\u001b[0m\n\u001b[0;32m----> 1\u001b[0;31m \u001b[0mfig\u001b[0m \u001b[0;34m=\u001b[0m \u001b[0mplt\u001b[0m\u001b[0;34m.\u001b[0m\u001b[0mfigure\u001b[0m\u001b[0;34m(\u001b[0m\u001b[0mfigsize\u001b[0m\u001b[0;34m=\u001b[0m\u001b[0;34m(\u001b[0m\u001b[0;36m8\u001b[0m\u001b[0;34m,\u001b[0m\u001b[0;36m5\u001b[0m\u001b[0;34m)\u001b[0m\u001b[0;34m,\u001b[0m \u001b[0mmarkersize\u001b[0m\u001b[0;34m=\u001b[0m\u001b[0;36m30\u001b[0m\u001b[0;34m)\u001b[0m\u001b[0;34m\u001b[0m\u001b[0m\n\u001b[0m\u001b[1;32m      2\u001b[0m \u001b[0max\u001b[0m \u001b[0;34m=\u001b[0m \u001b[0mfig\u001b[0m\u001b[0;34m.\u001b[0m\u001b[0madd_subplot\u001b[0m\u001b[0;34m(\u001b[0m\u001b[0;36m111\u001b[0m\u001b[0;34m,\u001b[0m \u001b[0mprojection\u001b[0m\u001b[0;34m=\u001b[0m\u001b[0;34m'3d'\u001b[0m\u001b[0;34m)\u001b[0m\u001b[0;34m\u001b[0m\u001b[0m\n\u001b[1;32m      3\u001b[0m \u001b[0mx\u001b[0m \u001b[0;34m=\u001b[0m \u001b[0mnew_data\u001b[0m\u001b[0;34m[\u001b[0m\u001b[0;36m0\u001b[0m\u001b[0;34m]\u001b[0m\u001b[0;34m[\u001b[0m\u001b[0;34m'time'\u001b[0m\u001b[0;34m]\u001b[0m\u001b[0;34m\u001b[0m\u001b[0m\n\u001b[1;32m      4\u001b[0m \u001b[0my\u001b[0m \u001b[0;34m=\u001b[0m \u001b[0mnew_data\u001b[0m\u001b[0;34m[\u001b[0m\u001b[0;36m0\u001b[0m\u001b[0;34m]\u001b[0m\u001b[0;34m[\u001b[0m\u001b[0;34m'x'\u001b[0m\u001b[0;34m]\u001b[0m\u001b[0;34m\u001b[0m\u001b[0m\n\u001b[1;32m      5\u001b[0m \u001b[0mz\u001b[0m \u001b[0;34m=\u001b[0m \u001b[0mnew_data\u001b[0m\u001b[0;34m[\u001b[0m\u001b[0;36m0\u001b[0m\u001b[0;34m]\u001b[0m\u001b[0;34m[\u001b[0m\u001b[0;34m'y'\u001b[0m\u001b[0;34m]\u001b[0m\u001b[0;34m\u001b[0m\u001b[0m\n",
      "\u001b[0;32m/home/sub/mpe_env/local/lib/python2.7/site-packages/matplotlib/pyplot.pyc\u001b[0m in \u001b[0;36mfigure\u001b[0;34m(num, figsize, dpi, facecolor, edgecolor, frameon, FigureClass, clear, **kwargs)\u001b[0m\n\u001b[1;32m    531\u001b[0m                                         \u001b[0mframeon\u001b[0m\u001b[0;34m=\u001b[0m\u001b[0mframeon\u001b[0m\u001b[0;34m,\u001b[0m\u001b[0;34m\u001b[0m\u001b[0m\n\u001b[1;32m    532\u001b[0m                                         \u001b[0mFigureClass\u001b[0m\u001b[0;34m=\u001b[0m\u001b[0mFigureClass\u001b[0m\u001b[0;34m,\u001b[0m\u001b[0;34m\u001b[0m\u001b[0m\n\u001b[0;32m--> 533\u001b[0;31m                                         **kwargs)\n\u001b[0m\u001b[1;32m    534\u001b[0m \u001b[0;34m\u001b[0m\u001b[0m\n\u001b[1;32m    535\u001b[0m         \u001b[0;32mif\u001b[0m \u001b[0mfigLabel\u001b[0m\u001b[0;34m:\u001b[0m\u001b[0;34m\u001b[0m\u001b[0m\n",
      "\u001b[0;32m/home/sub/mpe_env/local/lib/python2.7/site-packages/matplotlib/backend_bases.pyc\u001b[0m in \u001b[0;36mnew_figure_manager\u001b[0;34m(cls, num, *args, **kwargs)\u001b[0m\n\u001b[1;32m    158\u001b[0m         \u001b[0;32mfrom\u001b[0m \u001b[0mmatplotlib\u001b[0m\u001b[0;34m.\u001b[0m\u001b[0mfigure\u001b[0m \u001b[0;32mimport\u001b[0m \u001b[0mFigure\u001b[0m\u001b[0;34m\u001b[0m\u001b[0m\n\u001b[1;32m    159\u001b[0m         \u001b[0mfig_cls\u001b[0m \u001b[0;34m=\u001b[0m \u001b[0mkwargs\u001b[0m\u001b[0;34m.\u001b[0m\u001b[0mpop\u001b[0m\u001b[0;34m(\u001b[0m\u001b[0;34m'FigureClass'\u001b[0m\u001b[0;34m,\u001b[0m \u001b[0mFigure\u001b[0m\u001b[0;34m)\u001b[0m\u001b[0;34m\u001b[0m\u001b[0m\n\u001b[0;32m--> 160\u001b[0;31m         \u001b[0mfig\u001b[0m \u001b[0;34m=\u001b[0m \u001b[0mfig_cls\u001b[0m\u001b[0;34m(\u001b[0m\u001b[0;34m*\u001b[0m\u001b[0margs\u001b[0m\u001b[0;34m,\u001b[0m \u001b[0;34m**\u001b[0m\u001b[0mkwargs\u001b[0m\u001b[0;34m)\u001b[0m\u001b[0;34m\u001b[0m\u001b[0m\n\u001b[0m\u001b[1;32m    161\u001b[0m         \u001b[0;32mreturn\u001b[0m \u001b[0mcls\u001b[0m\u001b[0;34m.\u001b[0m\u001b[0mnew_figure_manager_given_figure\u001b[0m\u001b[0;34m(\u001b[0m\u001b[0mnum\u001b[0m\u001b[0;34m,\u001b[0m \u001b[0mfig\u001b[0m\u001b[0;34m)\u001b[0m\u001b[0;34m\u001b[0m\u001b[0m\n\u001b[1;32m    162\u001b[0m \u001b[0;34m\u001b[0m\u001b[0m\n",
      "\u001b[0;31mTypeError\u001b[0m: __init__() got an unexpected keyword argument 'markersize'"
     ]
    }
   ],
   "source": [
    "fig = plt.figure(figsize=(8,5))\n",
    "ax = fig.add_subplot(111, projection='3d')\n",
    "x = new_data[0]['time']\n",
    "y = new_data[0]['x']\n",
    "z = new_data[0]['y']\n",
    "\n",
    "x2 = new_data[1]['time']\n",
    "y2 = new_data[1]['x']\n",
    "z2 = new_data[1]['y']\n",
    "\n",
    "\n",
    "\n",
    "#ax.set_xlabel(\"time\")\n",
    "ax.set_ylabel(\"x\", fontsize = 15)\n",
    "ax.set_zlabel(\"y\", fontsize = 15)\n",
    "\n",
    "fig.set_figheight(10)\n",
    "fig.set_figwidth(10)\n",
    "\n",
    "\n",
    "ax.scatter(x, y, z, label=\"robot 1\", markersize=30)\n",
    "ax.scatter(x2, y2, z2, label=\"robot 2\", markersize=30)\n",
    "\n",
    "ax.set_ylim([-3, 3])\n",
    "ax.set_zlim([-3, 3])\n",
    "#ax.set_top_view()\n",
    "ax.view_init(0,0)\n",
    "ax.tick_params(axis='both', which='major', labelsize=12)\n",
    "ax.legend(loc='upper center',bbox_to_anchor=(0.5, 0.750), fontsize=15)\n",
    "\n",
    "#plt.gca().axes.get_xaxis().set_visible(False)\n",
    "plt.xticks([])\n",
    "plt.show()"
   ]
  },
  {
   "cell_type": "code",
   "execution_count": 144,
   "metadata": {},
   "outputs": [
    {
     "name": "stdout",
     "output_type": "stream",
     "text": [
      "[5.808966519288735, 5.466870220397352]\n"
     ]
    }
   ],
   "source": [
    "from math import *\n",
    "# Calculate the distance of trajectories\n",
    "x_arr = [None]*num\n",
    "y_arr = [None]*num\n",
    "x = [None]*num\n",
    "y = [None]*num\n",
    "traj_dist = [0.0]*num\n",
    "for i in range(num):\n",
    "    x_arr[i] = new_data[i][\"x\"]\n",
    "    y_arr[i] = new_data[i][\"y\"]\n",
    "    x[i] = x_arr[i].to_numpy()\n",
    "    y[i] = y_arr[i].to_numpy()\n",
    "#print(x)\n",
    "#print(y)\n",
    "#print(len(new_data[0])-1)\n",
    "for i in range(len(new_data[0])-1):\n",
    "    for j in range(num):\n",
    "        #print(x_arr[j])\n",
    "        traj_dist[j] += sqrt((x[j][i]-x[j][i+1])**2+(y[j][i]-y[j][i+1])**2)\n",
    "print(traj_dist)\n",
    "\n"
   ]
  },
  {
   "cell_type": "code",
   "execution_count": null,
   "metadata": {},
   "outputs": [],
   "source": []
  }
 ],
 "metadata": {
  "kernelspec": {
   "display_name": "Python 2",
   "language": "python",
   "name": "python2"
  },
  "language_info": {
   "codemirror_mode": {
    "name": "ipython",
    "version": 2
   },
   "file_extension": ".py",
   "mimetype": "text/x-python",
   "name": "python",
   "nbconvert_exporter": "python",
   "pygments_lexer": "ipython2",
   "version": "2.7.17"
  }
 },
 "nbformat": 4,
 "nbformat_minor": 2
}
