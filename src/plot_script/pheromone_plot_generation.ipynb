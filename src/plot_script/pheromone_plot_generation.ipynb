{
 "cells": [
  {
   "cell_type": "code",
   "execution_count": 21,
   "metadata": {},
   "outputs": [],
   "source": [
    "import numpy as np\n",
    "import pandas as pd\n",
    "import matplotlib.pyplot as plt\n",
    "import seaborn as sns"
   ]
  },
  {
   "cell_type": "code",
   "execution_count": 22,
   "metadata": {},
   "outputs": [],
   "source": [
    "pheromap_name = 'foraging_static'\n",
    "data = np.load('../../tmp/{}.npy'.format(pheromap_name))"
   ]
  },
  {
   "cell_type": "code",
   "execution_count": 23,
   "metadata": {},
   "outputs": [
    {
     "name": "stdout",
     "output_type": "stream",
     "text": [
      "df:      0    1    2    3    4    5    6    7    8    9    ...  111  112  113  \\\n",
      "0    0.0  0.0  0.0  0.0  0.0  0.0  0.0  0.0  0.0  0.0  ...  0.0  0.0  0.0   \n",
      "1    0.0  0.0  0.0  0.0  0.0  0.0  0.0  0.0  0.0  0.0  ...  0.0  0.0  0.0   \n",
      "2    0.0  0.0  0.0  0.0  0.0  0.0  0.0  0.0  0.0  0.0  ...  0.0  0.0  0.0   \n",
      "3    0.0  0.0  0.0  0.0  0.0  0.0  0.0  0.0  0.0  0.0  ...  0.0  0.0  0.0   \n",
      "4    0.0  0.0  0.0  0.0  0.0  0.0  0.0  0.0  0.0  0.0  ...  0.0  0.0  0.0   \n",
      "5    0.0  0.0  0.0  0.0  0.0  0.0  0.0  0.0  0.0  0.0  ...  0.0  0.0  0.0   \n",
      "6    0.0  0.0  0.0  0.0  0.0  0.0  0.0  0.0  0.0  0.0  ...  0.0  0.0  0.0   \n",
      "7    0.0  0.0  0.0  0.0  0.0  0.0  0.0  0.0  0.0  0.0  ...  0.0  0.0  0.0   \n",
      "8    0.0  0.0  0.0  0.0  0.0  0.0  0.0  0.0  0.0  0.0  ...  0.0  0.0  0.0   \n",
      "9    0.0  0.0  0.0  0.0  0.0  0.0  0.0  0.0  0.0  0.0  ...  0.0  0.0  0.0   \n",
      "10   0.0  0.0  0.0  0.0  0.0  0.0  0.0  0.0  0.0  0.0  ...  0.0  0.0  0.0   \n",
      "11   0.0  0.0  0.0  0.0  0.0  0.0  0.0  0.0  0.0  0.0  ...  0.0  0.0  0.0   \n",
      "12   0.0  0.0  0.0  0.0  0.0  0.0  0.0  0.0  0.0  0.0  ...  0.0  0.0  0.0   \n",
      "13   0.0  0.0  0.0  0.0  0.0  0.0  0.0  0.0  0.0  0.0  ...  0.0  0.0  0.0   \n",
      "14   0.0  0.0  0.0  0.0  0.0  0.0  0.0  0.0  0.0  0.0  ...  0.0  0.0  0.0   \n",
      "15   0.0  0.0  0.0  0.0  0.0  0.0  0.0  0.0  0.0  0.0  ...  0.0  0.0  0.0   \n",
      "16   0.0  0.0  0.0  0.0  0.0  0.0  0.0  0.0  0.0  0.0  ...  0.0  0.0  0.0   \n",
      "17   0.0  0.0  0.0  0.0  0.0  0.0  0.0  0.0  0.0  0.0  ...  0.0  0.0  0.0   \n",
      "18   0.0  0.0  0.0  0.0  0.0  0.0  0.0  0.0  0.0  0.0  ...  0.0  0.0  0.0   \n",
      "19   0.0  0.0  0.0  0.0  0.0  0.0  0.0  0.0  0.0  0.0  ...  0.0  0.0  0.0   \n",
      "20   0.0  0.0  0.0  0.0  0.0  0.0  0.0  0.0  0.0  0.0  ...  0.0  0.0  0.0   \n",
      "21   0.0  0.0  0.0  0.0  0.0  0.0  0.0  0.0  0.0  0.0  ...  0.0  0.0  0.0   \n",
      "22   0.0  0.0  0.0  0.0  0.0  0.0  0.0  0.0  0.0  0.0  ...  0.0  0.0  0.0   \n",
      "23   0.0  0.0  0.0  0.0  0.0  0.0  0.0  0.0  0.0  0.0  ...  0.0  0.0  0.0   \n",
      "24   0.0  0.0  0.0  0.0  0.0  0.0  0.0  0.0  0.0  0.0  ...  0.0  0.0  0.0   \n",
      "25   0.0  0.0  0.0  0.0  0.0  0.0  0.0  0.0  0.0  0.0  ...  0.0  0.0  0.0   \n",
      "26   0.0  0.0  0.0  0.0  0.0  0.0  0.0  0.0  0.0  0.0  ...  0.0  0.0  0.0   \n",
      "27   0.0  0.0  0.0  0.0  0.0  0.0  0.0  0.0  0.0  0.0  ...  0.0  0.0  0.0   \n",
      "28   0.0  0.0  0.0  0.0  0.0  0.0  0.0  0.0  0.0  0.0  ...  0.0  0.0  0.0   \n",
      "29   0.0  0.0  0.0  0.0  0.0  0.0  0.0  0.0  0.0  0.0  ...  0.0  0.0  0.0   \n",
      "..   ...  ...  ...  ...  ...  ...  ...  ...  ...  ...  ...  ...  ...  ...   \n",
      "91   0.0  0.0  0.0  0.0  0.0  0.0  0.0  0.0  0.0  0.0  ...  0.0  0.0  0.0   \n",
      "92   0.0  0.0  0.0  0.0  0.0  0.0  0.0  0.0  0.0  0.0  ...  0.0  0.0  0.0   \n",
      "93   0.0  0.0  0.0  0.0  0.0  0.0  0.0  0.0  0.0  0.0  ...  0.0  0.0  0.0   \n",
      "94   0.0  0.0  0.0  0.0  0.0  0.0  0.0  0.0  0.0  0.0  ...  0.0  0.0  0.0   \n",
      "95   0.0  0.0  0.0  0.0  0.0  0.0  0.0  0.0  0.0  0.0  ...  0.0  0.0  0.0   \n",
      "96   0.0  0.0  0.0  0.0  0.0  0.0  0.0  0.0  0.0  0.0  ...  0.0  0.0  0.0   \n",
      "97   0.0  0.0  0.0  0.0  0.0  0.0  0.0  0.0  0.0  0.0  ...  0.0  0.0  0.0   \n",
      "98   0.0  0.0  0.0  0.0  0.0  0.0  0.0  0.0  0.0  0.0  ...  0.0  0.0  0.0   \n",
      "99   0.0  0.0  0.0  0.0  0.0  0.0  0.0  0.0  0.0  0.0  ...  0.0  0.0  0.0   \n",
      "100  0.0  0.0  0.0  0.0  0.0  0.0  0.0  0.0  0.0  0.0  ...  0.0  0.0  0.0   \n",
      "101  0.0  0.0  0.0  0.0  0.0  0.0  0.0  0.0  0.0  0.0  ...  0.0  0.0  0.0   \n",
      "102  0.0  0.0  0.0  0.0  0.0  0.0  0.0  0.0  0.0  0.0  ...  0.0  0.0  0.0   \n",
      "103  0.0  0.0  0.0  0.0  0.0  0.0  0.0  0.0  0.0  0.0  ...  0.0  0.0  0.0   \n",
      "104  0.0  0.0  0.0  0.0  0.0  0.0  0.0  0.0  0.0  0.0  ...  0.0  0.0  0.0   \n",
      "105  0.0  0.0  0.0  0.0  0.0  0.0  0.0  0.0  0.0  0.0  ...  0.0  0.0  0.0   \n",
      "106  0.0  0.0  0.0  0.0  0.0  0.0  0.0  0.0  0.0  0.0  ...  0.0  0.0  0.0   \n",
      "107  0.0  0.0  0.0  0.0  0.0  0.0  0.0  0.0  0.0  0.0  ...  0.0  0.0  0.0   \n",
      "108  0.0  0.0  0.0  0.0  0.0  0.0  0.0  0.0  0.0  0.0  ...  0.0  0.0  0.0   \n",
      "109  0.0  0.0  0.0  0.0  0.0  0.0  0.0  0.0  0.0  0.0  ...  0.0  0.0  0.0   \n",
      "110  0.0  0.0  0.0  0.0  0.0  0.0  0.0  0.0  0.0  0.0  ...  0.0  0.0  0.0   \n",
      "111  0.0  0.0  0.0  0.0  0.0  0.0  0.0  0.0  0.0  0.0  ...  0.0  0.0  0.0   \n",
      "112  0.0  0.0  0.0  0.0  0.0  0.0  0.0  0.0  0.0  0.0  ...  0.0  0.0  0.0   \n",
      "113  0.0  0.0  0.0  0.0  0.0  0.0  0.0  0.0  0.0  0.0  ...  0.0  0.0  0.0   \n",
      "114  0.0  0.0  0.0  0.0  0.0  0.0  0.0  0.0  0.0  0.0  ...  0.0  0.0  0.0   \n",
      "115  0.0  0.0  0.0  0.0  0.0  0.0  0.0  0.0  0.0  0.0  ...  0.0  0.0  0.0   \n",
      "116  0.0  0.0  0.0  0.0  0.0  0.0  0.0  0.0  0.0  0.0  ...  0.0  0.0  0.0   \n",
      "117  0.0  0.0  0.0  0.0  0.0  0.0  0.0  0.0  0.0  0.0  ...  0.0  0.0  0.0   \n",
      "118  0.0  0.0  0.0  0.0  0.0  0.0  0.0  0.0  0.0  0.0  ...  0.0  0.0  0.0   \n",
      "119  0.0  0.0  0.0  0.0  0.0  0.0  0.0  0.0  0.0  0.0  ...  0.0  0.0  0.0   \n",
      "120  0.0  0.0  0.0  0.0  0.0  0.0  0.0  0.0  0.0  0.0  ...  0.0  0.0  0.0   \n",
      "\n",
      "     114  115  116  117  118  119  120  \n",
      "0    0.0  0.0  0.0  0.0  0.0  0.0  0.0  \n",
      "1    0.0  0.0  0.0  0.0  0.0  0.0  0.0  \n",
      "2    0.0  0.0  0.0  0.0  0.0  0.0  0.0  \n",
      "3    0.0  0.0  0.0  0.0  0.0  0.0  0.0  \n",
      "4    0.0  0.0  0.0  0.0  0.0  0.0  0.0  \n",
      "5    0.0  0.0  0.0  0.0  0.0  0.0  0.0  \n",
      "6    0.0  0.0  0.0  0.0  0.0  0.0  0.0  \n",
      "7    0.0  0.0  0.0  0.0  0.0  0.0  0.0  \n",
      "8    0.0  0.0  0.0  0.0  0.0  0.0  0.0  \n",
      "9    0.0  0.0  0.0  0.0  0.0  0.0  0.0  \n",
      "10   0.0  0.0  0.0  0.0  0.0  0.0  0.0  \n",
      "11   0.0  0.0  0.0  0.0  0.0  0.0  0.0  \n",
      "12   0.0  0.0  0.0  0.0  0.0  0.0  0.0  \n",
      "13   0.0  0.0  0.0  0.0  0.0  0.0  0.0  \n",
      "14   0.0  0.0  0.0  0.0  0.0  0.0  0.0  \n",
      "15   0.0  0.0  0.0  0.0  0.0  0.0  0.0  \n",
      "16   0.0  0.0  0.0  0.0  0.0  0.0  0.0  \n",
      "17   0.0  0.0  0.0  0.0  0.0  0.0  0.0  \n",
      "18   0.0  0.0  0.0  0.0  0.0  0.0  0.0  \n",
      "19   0.0  0.0  0.0  0.0  0.0  0.0  0.0  \n",
      "20   0.0  0.0  0.0  0.0  0.0  0.0  0.0  \n",
      "21   0.0  0.0  0.0  0.0  0.0  0.0  0.0  \n",
      "22   0.0  0.0  0.0  0.0  0.0  0.0  0.0  \n",
      "23   0.0  0.0  0.0  0.0  0.0  0.0  0.0  \n",
      "24   0.0  0.0  0.0  0.0  0.0  0.0  0.0  \n",
      "25   0.0  0.0  0.0  0.0  0.0  0.0  0.0  \n",
      "26   0.0  0.0  0.0  0.0  0.0  0.0  0.0  \n",
      "27   0.0  0.0  0.0  0.0  0.0  0.0  0.0  \n",
      "28   0.0  0.0  0.0  0.0  0.0  0.0  0.0  \n",
      "29   0.0  0.0  0.0  0.0  0.0  0.0  0.0  \n",
      "..   ...  ...  ...  ...  ...  ...  ...  \n",
      "91   0.0  0.0  0.0  0.0  0.0  0.0  0.0  \n",
      "92   0.0  0.0  0.0  0.0  0.0  0.0  0.0  \n",
      "93   0.0  0.0  0.0  0.0  0.0  0.0  0.0  \n",
      "94   0.0  0.0  0.0  0.0  0.0  0.0  0.0  \n",
      "95   0.0  0.0  0.0  0.0  0.0  0.0  0.0  \n",
      "96   0.0  0.0  0.0  0.0  0.0  0.0  0.0  \n",
      "97   0.0  0.0  0.0  0.0  0.0  0.0  0.0  \n",
      "98   0.0  0.0  0.0  0.0  0.0  0.0  0.0  \n",
      "99   0.0  0.0  0.0  0.0  0.0  0.0  0.0  \n",
      "100  0.0  0.0  0.0  0.0  0.0  0.0  0.0  \n",
      "101  0.0  0.0  0.0  0.0  0.0  0.0  0.0  \n",
      "102  0.0  0.0  0.0  0.0  0.0  0.0  0.0  \n",
      "103  0.0  0.0  0.0  0.0  0.0  0.0  0.0  \n",
      "104  0.0  0.0  0.0  0.0  0.0  0.0  0.0  \n",
      "105  0.0  0.0  0.0  0.0  0.0  0.0  0.0  \n",
      "106  0.0  0.0  0.0  0.0  0.0  0.0  0.0  \n",
      "107  0.0  0.0  0.0  0.0  0.0  0.0  0.0  \n",
      "108  0.0  0.0  0.0  0.0  0.0  0.0  0.0  \n",
      "109  0.0  0.0  0.0  0.0  0.0  0.0  0.0  \n",
      "110  0.0  0.0  0.0  0.0  0.0  0.0  0.0  \n",
      "111  0.0  0.0  0.0  0.0  0.0  0.0  0.0  \n",
      "112  0.0  0.0  0.0  0.0  0.0  0.0  0.0  \n",
      "113  0.0  0.0  0.0  0.0  0.0  0.0  0.0  \n",
      "114  0.0  0.0  0.0  0.0  0.0  0.0  0.0  \n",
      "115  0.0  0.0  0.0  0.0  0.0  0.0  0.0  \n",
      "116  0.0  0.0  0.0  0.0  0.0  0.0  0.0  \n",
      "117  0.0  0.0  0.0  0.0  0.0  0.0  0.0  \n",
      "118  0.0  0.0  0.0  0.0  0.0  0.0  0.0  \n",
      "119  0.0  0.0  0.0  0.0  0.0  0.0  0.0  \n",
      "120  0.0  0.0  0.0  0.0  0.0  0.0  0.0  \n",
      "\n",
      "[121 rows x 121 columns]\n"
     ]
    }
   ],
   "source": [
    "df = pd.DataFrame(data=data[0:,0:],\n",
    "                  index=range(np.shape(data)[0]),\n",
    "                  columns=range(np.shape(data)[0]))\n",
    "print(\"df: {}\".format(df))"
   ]
  },
  {
   "cell_type": "code",
   "execution_count": 24,
   "metadata": {},
   "outputs": [
    {
     "data": {
      "text/plain": [
       "Text(33,0.5,'y')"
      ]
     },
     "execution_count": 24,
     "metadata": {},
     "output_type": "execute_result"
    },
    {
     "data": {
      "image/png": "[encoded data removed]",
      "text/plain": [
       "<Figure size 432x288 with 2 Axes>"
      ]
     },
     "metadata": {
      "needs_background": "light"
     },
     "output_type": "display_data"
    }
   ],
   "source": [
    "df_heatmap = sns.heatmap(data, cmap=\"BuPu\", vmin=0.0, vmax=1.0)\n",
    "df_heatmap.set_title(\"{}\".format(pheromap_name), fontsize=\"15\")\n",
    "df_heatmap.set_xlabel(\"x\", fontsize=\"15\")\n",
    "df_heatmap.set_ylabel(\"y\", fontsize=\"15\")"
   ]
  },
  {
   "cell_type": "code",
   "execution_count": 11,
   "metadata": {},
   "outputs": [],
   "source": [
    "folder_path = \"/home/swn/catkin_ws/src/Turtlebot3_Pheromone/tmp\"\n",
    "df_heatmap.get_figure().savefig(\"/home/swn/catkin_ws/src/Turtlebot3_Pheromone/tmp/{}\".format(pheromap_name))"
   ]
  },
  {
   "cell_type": "code",
   "execution_count": null,
   "metadata": {},
   "outputs": [],
   "source": []
  },
  {
   "cell_type": "code",
   "execution_count": null,
   "metadata": {},
   "outputs": [],
   "source": []
  }
 ],
 "metadata": {
  "kernelspec": {
   "display_name": "Python 2",
   "language": "python",
   "name": "python2"
  },
  "language_info": {
   "codemirror_mode": {
    "name": "ipython",
    "version": 2
   },
   "file_extension": ".py",
   "mimetype": "text/x-python",
   "name": "python",
   "nbconvert_exporter": "python",
   "pygments_lexer": "ipython2",
   "version": "2.7.12"
  }
 },
 "nbformat": 4,
 "nbformat_minor": 2
}
