{
 "cells": [
  {
   "cell_type": "code",
   "execution_count": 11,
   "metadata": {},
   "outputs": [],
   "source": [
    "import numpy as np\n",
    "import pandas as pd\n",
    "import matplotlib.pyplot as plt\n",
    "import seaborn as sns"
   ]
  },
  {
   "cell_type": "code",
   "execution_count": 12,
   "metadata": {},
   "outputs": [],
   "source": [
    "pheromap_name = 'tcds_exp4'\n",
    "data = np.load('../tmp/{}.npy'.format(pheromap_name))"
   ]
  },
  {
   "cell_type": "code",
   "execution_count": 13,
   "metadata": {},
   "outputs": [
    {
     "name": "stdout",
     "output_type": "stream",
     "text": [
      "df:       0     1     2     3     4     5     6     7     8     9     ...  1191  \\\n",
      "0      0.0   0.0   0.0   0.0   0.0   0.0   0.0   0.0   0.0   0.0  ...   0.0   \n",
      "1      0.0   0.0   0.0   0.0   0.0   0.0   0.0   0.0   0.0   0.0  ...   0.0   \n",
      "2      0.0   0.0   0.0   0.0   0.0   0.0   0.0   0.0   0.0   0.0  ...   0.0   \n",
      "3      0.0   0.0   0.0   0.0   0.0   0.0   0.0   0.0   0.0   0.0  ...   0.0   \n",
      "4      0.0   0.0   0.0   0.0   0.0   0.0   0.0   0.0   0.0   0.0  ...   0.0   \n",
      "5      0.0   0.0   0.0   0.0   0.0   0.0   0.0   0.0   0.0   0.0  ...   0.0   \n",
      "6      0.0   0.0   0.0   0.0   0.0   0.0   0.0   0.0   0.0   0.0  ...   0.0   \n",
      "7      0.0   0.0   0.0   0.0   0.0   0.0   0.0   0.0   0.0   0.0  ...   0.0   \n",
      "8      0.0   0.0   0.0   0.0   0.0   0.0   0.0   0.0   0.0   0.0  ...   0.0   \n",
      "9      0.0   0.0   0.0   0.0   0.0   0.0   0.0   0.0   0.0   0.0  ...   0.0   \n",
      "10     0.0   0.0   0.0   0.0   0.0   0.0   0.0   0.0   0.0   0.0  ...   0.0   \n",
      "11     0.0   0.0   0.0   0.0   0.0   0.0   0.0   0.0   0.0   0.0  ...   0.0   \n",
      "12     0.0   0.0   0.0   0.0   0.0   0.0   0.0   0.0   0.0   0.0  ...   0.0   \n",
      "13     0.0   0.0   0.0   0.0   0.0   0.0   0.0   0.0   0.0   0.0  ...   0.0   \n",
      "14     0.0   0.0   0.0   0.0   0.0   0.0   0.0   0.0   0.0   0.0  ...   0.0   \n",
      "15     0.0   0.0   0.0   0.0   0.0   0.0   0.0   0.0   0.0   0.0  ...   0.0   \n",
      "16     0.0   0.0   0.0   0.0   0.0   0.0   0.0   0.0   0.0   0.0  ...   0.0   \n",
      "17     0.0   0.0   0.0   0.0   0.0   0.0   0.0   0.0   0.0   0.0  ...   0.0   \n",
      "18     0.0   0.0   0.0   0.0   0.0   0.0   0.0   0.0   0.0   0.0  ...   0.0   \n",
      "19     0.0   0.0   0.0   0.0   0.0   0.0   0.0   0.0   0.0   0.0  ...   0.0   \n",
      "20     0.0   0.0   0.0   0.0   0.0   0.0   0.0   0.0   0.0   0.0  ...   0.0   \n",
      "21     0.0   0.0   0.0   0.0   0.0   0.0   0.0   0.0   0.0   0.0  ...   0.0   \n",
      "22     0.0   0.0   0.0   0.0   0.0   0.0   0.0   0.0   0.0   0.0  ...   0.0   \n",
      "23     0.0   0.0   0.0   0.0   0.0   0.0   0.0   0.0   0.0   0.0  ...   0.0   \n",
      "24     0.0   0.0   0.0   0.0   0.0   0.0   0.0   0.0   0.0   0.0  ...   0.0   \n",
      "25     0.0   0.0   0.0   0.0   0.0   0.0   0.0   0.0   0.0   0.0  ...   0.0   \n",
      "26     0.0   0.0   0.0   0.0   0.0   0.0   0.0   0.0   0.0   0.0  ...   0.0   \n",
      "27     0.0   0.0   0.0   0.0   0.0   0.0   0.0   0.0   0.0   0.0  ...   0.0   \n",
      "28     0.0   0.0   0.0   0.0   0.0   0.0   0.0   0.0   0.0   0.0  ...   0.0   \n",
      "29     0.0   0.0   0.0   0.0   0.0   0.0   0.0   0.0   0.0   0.0  ...   0.0   \n",
      "...    ...   ...   ...   ...   ...   ...   ...   ...   ...   ...  ...   ...   \n",
      "1171   0.0   0.0   0.0   0.0   0.0   0.0   0.0   0.0   0.0   0.0  ...   0.0   \n",
      "1172   0.0   0.0   0.0   0.0   0.0   0.0   0.0   0.0   0.0   0.0  ...   0.0   \n",
      "1173   0.0   0.0   0.0   0.0   0.0   0.0   0.0   0.0   0.0   0.0  ...   0.0   \n",
      "1174   0.0   0.0   0.0   0.0   0.0   0.0   0.0   0.0   0.0   0.0  ...   0.0   \n",
      "1175   0.0   0.0   0.0   0.0   0.0   0.0   0.0   0.0   0.0   0.0  ...   0.0   \n",
      "1176   0.0   0.0   0.0   0.0   0.0   0.0   0.0   0.0   0.0   0.0  ...   0.0   \n",
      "1177   0.0   0.0   0.0   0.0   0.0   0.0   0.0   0.0   0.0   0.0  ...   0.0   \n",
      "1178   0.0   0.0   0.0   0.0   0.0   0.0   0.0   0.0   0.0   0.0  ...   0.0   \n",
      "1179   0.0   0.0   0.0   0.0   0.0   0.0   0.0   0.0   0.0   0.0  ...   0.0   \n",
      "1180   0.0   0.0   0.0   0.0   0.0   0.0   0.0   0.0   0.0   0.0  ...   0.0   \n",
      "1181   0.0   0.0   0.0   0.0   0.0   0.0   0.0   0.0   0.0   0.0  ...   0.0   \n",
      "1182   0.0   0.0   0.0   0.0   0.0   0.0   0.0   0.0   0.0   0.0  ...   0.0   \n",
      "1183   0.0   0.0   0.0   0.0   0.0   0.0   0.0   0.0   0.0   0.0  ...   0.0   \n",
      "1184   0.0   0.0   0.0   0.0   0.0   0.0   0.0   0.0   0.0   0.0  ...   0.0   \n",
      "1185   0.0   0.0   0.0   0.0   0.0   0.0   0.0   0.0   0.0   0.0  ...   0.0   \n",
      "1186   0.0   0.0   0.0   0.0   0.0   0.0   0.0   0.0   0.0   0.0  ...   0.0   \n",
      "1187   0.0   0.0   0.0   0.0   0.0   0.0   0.0   0.0   0.0   0.0  ...   0.0   \n",
      "1188   0.0   0.0   0.0   0.0   0.0   0.0   0.0   0.0   0.0   0.0  ...   0.0   \n",
      "1189   0.0   0.0   0.0   0.0   0.0   0.0   0.0   0.0   0.0   0.0  ...   0.0   \n",
      "1190   0.0   0.0   0.0   0.0   0.0   0.0   0.0   0.0   0.0   0.0  ...   0.0   \n",
      "1191   0.0   0.0   0.0   0.0   0.0   0.0   0.0   0.0   0.0   0.0  ...   0.0   \n",
      "1192   0.0   0.0   0.0   0.0   0.0   0.0   0.0   0.0   0.0   0.0  ...   0.0   \n",
      "1193   0.0   0.0   0.0   0.0   0.0   0.0   0.0   0.0   0.0   0.0  ...   0.0   \n",
      "1194   0.0   0.0   0.0   0.0   0.0   0.0   0.0   0.0   0.0   0.0  ...   0.0   \n",
      "1195   0.0   0.0   0.0   0.0   0.0   0.0   0.0   0.0   0.0   0.0  ...   0.0   \n",
      "1196   0.0   0.0   0.0   0.0   0.0   0.0   0.0   0.0   0.0   0.0  ...   0.0   \n",
      "1197   0.0   0.0   0.0   0.0   0.0   0.0   0.0   0.0   0.0   0.0  ...   0.0   \n",
      "1198   0.0   0.0   0.0   0.0   0.0   0.0   0.0   0.0   0.0   0.0  ...   0.0   \n",
      "1199   0.0   0.0   0.0   0.0   0.0   0.0   0.0   0.0   0.0   0.0  ...   0.0   \n",
      "1200   0.0   0.0   0.0   0.0   0.0   0.0   0.0   0.0   0.0   0.0  ...   0.0   \n",
      "\n",
      "      1192  1193  1194  1195  1196  1197  1198  1199  1200  \n",
      "0      0.0   0.0   0.0   0.0   0.0   0.0   0.0   0.0   0.0  \n",
      "1      0.0   0.0   0.0   0.0   0.0   0.0   0.0   0.0   0.0  \n",
      "2      0.0   0.0   0.0   0.0   0.0   0.0   0.0   0.0   0.0  \n",
      "3      0.0   0.0   0.0   0.0   0.0   0.0   0.0   0.0   0.0  \n",
      "4      0.0   0.0   0.0   0.0   0.0   0.0   0.0   0.0   0.0  \n",
      "5      0.0   0.0   0.0   0.0   0.0   0.0   0.0   0.0   0.0  \n",
      "6      0.0   0.0   0.0   0.0   0.0   0.0   0.0   0.0   0.0  \n",
      "7      0.0   0.0   0.0   0.0   0.0   0.0   0.0   0.0   0.0  \n",
      "8      0.0   0.0   0.0   0.0   0.0   0.0   0.0   0.0   0.0  \n",
      "9      0.0   0.0   0.0   0.0   0.0   0.0   0.0   0.0   0.0  \n",
      "10     0.0   0.0   0.0   0.0   0.0   0.0   0.0   0.0   0.0  \n",
      "11     0.0   0.0   0.0   0.0   0.0   0.0   0.0   0.0   0.0  \n",
      "12     0.0   0.0   0.0   0.0   0.0   0.0   0.0   0.0   0.0  \n",
      "13     0.0   0.0   0.0   0.0   0.0   0.0   0.0   0.0   0.0  \n",
      "14     0.0   0.0   0.0   0.0   0.0   0.0   0.0   0.0   0.0  \n",
      "15     0.0   0.0   0.0   0.0   0.0   0.0   0.0   0.0   0.0  \n",
      "16     0.0   0.0   0.0   0.0   0.0   0.0   0.0   0.0   0.0  \n",
      "17     0.0   0.0   0.0   0.0   0.0   0.0   0.0   0.0   0.0  \n",
      "18     0.0   0.0   0.0   0.0   0.0   0.0   0.0   0.0   0.0  \n",
      "19     0.0   0.0   0.0   0.0   0.0   0.0   0.0   0.0   0.0  \n",
      "20     0.0   0.0   0.0   0.0   0.0   0.0   0.0   0.0   0.0  \n",
      "21     0.0   0.0   0.0   0.0   0.0   0.0   0.0   0.0   0.0  \n",
      "22     0.0   0.0   0.0   0.0   0.0   0.0   0.0   0.0   0.0  \n",
      "23     0.0   0.0   0.0   0.0   0.0   0.0   0.0   0.0   0.0  \n",
      "24     0.0   0.0   0.0   0.0   0.0   0.0   0.0   0.0   0.0  \n",
      "25     0.0   0.0   0.0   0.0   0.0   0.0   0.0   0.0   0.0  \n",
      "26     0.0   0.0   0.0   0.0   0.0   0.0   0.0   0.0   0.0  \n",
      "27     0.0   0.0   0.0   0.0   0.0   0.0   0.0   0.0   0.0  \n",
      "28     0.0   0.0   0.0   0.0   0.0   0.0   0.0   0.0   0.0  \n",
      "29     0.0   0.0   0.0   0.0   0.0   0.0   0.0   0.0   0.0  \n",
      "...    ...   ...   ...   ...   ...   ...   ...   ...   ...  \n",
      "1171   0.0   0.0   0.0   0.0   0.0   0.0   0.0   0.0   0.0  \n",
      "1172   0.0   0.0   0.0   0.0   0.0   0.0   0.0   0.0   0.0  \n",
      "1173   0.0   0.0   0.0   0.0   0.0   0.0   0.0   0.0   0.0  \n",
      "1174   0.0   0.0   0.0   0.0   0.0   0.0   0.0   0.0   0.0  \n",
      "1175   0.0   0.0   0.0   0.0   0.0   0.0   0.0   0.0   0.0  \n",
      "1176   0.0   0.0   0.0   0.0   0.0   0.0   0.0   0.0   0.0  \n",
      "1177   0.0   0.0   0.0   0.0   0.0   0.0   0.0   0.0   0.0  \n",
      "1178   0.0   0.0   0.0   0.0   0.0   0.0   0.0   0.0   0.0  \n",
      "1179   0.0   0.0   0.0   0.0   0.0   0.0   0.0   0.0   0.0  \n",
      "1180   0.0   0.0   0.0   0.0   0.0   0.0   0.0   0.0   0.0  \n",
      "1181   0.0   0.0   0.0   0.0   0.0   0.0   0.0   0.0   0.0  \n",
      "1182   0.0   0.0   0.0   0.0   0.0   0.0   0.0   0.0   0.0  \n",
      "1183   0.0   0.0   0.0   0.0   0.0   0.0   0.0   0.0   0.0  \n",
      "1184   0.0   0.0   0.0   0.0   0.0   0.0   0.0   0.0   0.0  \n",
      "1185   0.0   0.0   0.0   0.0   0.0   0.0   0.0   0.0   0.0  \n",
      "1186   0.0   0.0   0.0   0.0   0.0   0.0   0.0   0.0   0.0  \n",
      "1187   0.0   0.0   0.0   0.0   0.0   0.0   0.0   0.0   0.0  \n",
      "1188   0.0   0.0   0.0   0.0   0.0   0.0   0.0   0.0   0.0  \n",
      "1189   0.0   0.0   0.0   0.0   0.0   0.0   0.0   0.0   0.0  \n",
      "1190   0.0   0.0   0.0   0.0   0.0   0.0   0.0   0.0   0.0  \n",
      "1191   0.0   0.0   0.0   0.0   0.0   0.0   0.0   0.0   0.0  \n",
      "1192   0.0   0.0   0.0   0.0   0.0   0.0   0.0   0.0   0.0  \n",
      "1193   0.0   0.0   0.0   0.0   0.0   0.0   0.0   0.0   0.0  \n",
      "1194   0.0   0.0   0.0   0.0   0.0   0.0   0.0   0.0   0.0  \n",
      "1195   0.0   0.0   0.0   0.0   0.0   0.0   0.0   0.0   0.0  \n",
      "1196   0.0   0.0   0.0   0.0   0.0   0.0   0.0   0.0   0.0  \n",
      "1197   0.0   0.0   0.0   0.0   0.0   0.0   0.0   0.0   0.0  \n",
      "1198   0.0   0.0   0.0   0.0   0.0   0.0   0.0   0.0   0.0  \n",
      "1199   0.0   0.0   0.0   0.0   0.0   0.0   0.0   0.0   0.0  \n",
      "1200   0.0   0.0   0.0   0.0   0.0   0.0   0.0   0.0   0.0  \n",
      "\n",
      "[1201 rows x 1201 columns]\n"
     ]
    }
   ],
   "source": [
    "df = pd.DataFrame(data=data[0:,0:],\n",
    "                  index=range(np.shape(data)[0]),\n",
    "                  columns=range(np.shape(data)[0]))\n",
    "print(\"df: {}\".format(df))"
   ]
  },
  {
   "cell_type": "code",
   "execution_count": 14,
   "metadata": {},
   "outputs": [
    {
     "data": {
      "text/plain": [
       "Text(33,0.5,'y')"
      ]
     },
     "execution_count": 14,
     "metadata": {},
     "output_type": "execute_result"
    },
    {
     "data": {
      "image/png": "[encoded data removed]",
      "text/plain": [
       "<Figure size 432x288 with 2 Axes>"
      ]
     },
     "metadata": {
      "needs_background": "light"
     },
     "output_type": "display_data"
    }
   ],
   "source": [
    "df_heatmap = sns.heatmap(data, cmap=\"BuPu\", vmin=0.0, vmax=1.0)\n",
    "df_heatmap.set_title(\"{}\".format(pheromap_name), fontsize=\"15\")\n",
    "df_heatmap.set_xlabel(\"x\", fontsize=\"15\")\n",
    "df_heatmap.set_ylabel(\"y\", fontsize=\"15\")"
   ]
  },
  {
   "cell_type": "code",
   "execution_count": 6,
   "metadata": {},
   "outputs": [],
   "source": [
    "folder_path = \"/home/sub/catkin_ws/src/Turtlebot3_Pheromone/tmp\"\n",
    "df_heatmap.get_figure().savefig(\"/home/sub/catkin_ws/src/Turtlebot3_Pheromone/tmp/{}\".format(pheromap_name))"
   ]
  },
  {
   "cell_type": "code",
   "execution_count": null,
   "metadata": {},
   "outputs": [],
   "source": []
  }
 ],
 "metadata": {
  "kernelspec": {
   "display_name": "Python 3",
   "language": "python",
   "name": "python3"
  },
  "language_info": {
   "codemirror_mode": {
    "name": "ipython",
    "version": 3
   },
   "file_extension": ".py",
   "mimetype": "text/x-python",
   "name": "python",
   "nbconvert_exporter": "python",
   "pygments_lexer": "ipython3",
   "version": "3.6.9"
  }
 },
 "nbformat": 4,
 "nbformat_minor": 2
}
