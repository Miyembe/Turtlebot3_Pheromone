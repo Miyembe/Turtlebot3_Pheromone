{
 "cells": [
  {
   "cell_type": "code",
   "execution_count": 27,
   "metadata": {},
   "outputs": [],
   "source": [
    "import numpy as np\n",
    "import matplotlib.pyplot as plt\n",
    "import matplotlib.animation as animation\n",
    "import math\n",
    "import time\n",
    "import os\n",
    "import pandas as pd"
   ]
  },
  {
   "cell_type": "code",
   "execution_count": 28,
   "metadata": {},
   "outputs": [],
   "source": [
    "path = \"/home/sub/catkin_ws/src/Turtlebot3_Pheromone/tmp/20210409-125021\""
   ]
  },
  {
   "cell_type": "code",
   "execution_count": 29,
   "metadata": {},
   "outputs": [],
   "source": [
    "df = pd.read_csv(os.path.join(path, 'pose_2.csv'))\n",
    "data_poses = df.set_index(['time', 'ID'])\n",
    "num_robots = 2"
   ]
  },
  {
   "cell_type": "code",
   "execution_count": 32,
   "metadata": {},
   "outputs": [
    {
     "name": "stdout",
     "output_type": "stream",
     "text": [
      "157\n",
      "83\n",
      "time  ID\n",
      "0.1   0     157\n",
      "      1      83\n",
      "0.2   0     152\n",
      "      1      88\n",
      "0.3   0     152\n",
      "      1      88\n",
      "0.4   0     152\n",
      "      1      88\n",
      "0.5   0     152\n",
      "      1      88\n",
      "0.7   0     152\n",
      "      1      88\n",
      "0.8   0     152\n",
      "      1      88\n",
      "0.9   0     152\n",
      "      1      88\n",
      "1.0   0     152\n",
      "      1      88\n",
      "1.1   0     152\n",
      "      1      88\n",
      "1.2   0     152\n",
      "      1      88\n",
      "1.3   0     152\n",
      "      1      88\n",
      "1.4   0     152\n",
      "      1      88\n",
      "1.5   0     152\n",
      "      1      88\n",
      "1.6   0     152\n",
      "      1      88\n",
      "           ... \n",
      "7.7   0     135\n",
      "      1     103\n",
      "7.8   0     135\n",
      "      1     104\n",
      "7.9   0     135\n",
      "      1     104\n",
      "8.0   0     134\n",
      "      1     105\n",
      "8.1   0     134\n",
      "      1     105\n",
      "8.2   0     133\n",
      "      1     106\n",
      "8.3   0     133\n",
      "      1     106\n",
      "8.4   0     133\n",
      "      1     106\n",
      "8.5   0     132\n",
      "      1     107\n",
      "8.6   0     132\n",
      "      1     107\n",
      "8.7   0     132\n",
      "      1     107\n",
      "8.8   0     131\n",
      "      1     107\n",
      "8.9   0     131\n",
      "      1     108\n",
      "9.0   0     131\n",
      "      1     108\n",
      "9.1   0     131\n",
      "      1     108\n",
      "Name: x, Length: 178, dtype: int64\n"
     ]
    }
   ],
   "source": [
    "print(data_poses[\"x\"][0.1][0])\n",
    "print(data_poses[\"x\"][0.1][1])\n",
    "print(data_poses[\"x\"])"
   ]
  },
  {
   "cell_type": "code",
   "execution_count": 89,
   "metadata": {
    "scrolled": false
   },
   "outputs": [
    {
     "name": "stdout",
     "output_type": "stream",
     "text": [
      "[[], []]\n",
      "[[], []]\n",
      "[[134], []]\n",
      "[[134], [105]]\n",
      "[[134, 134], [105]]\n",
      "[[134, 134], [105, 105]]\n",
      "[[134, 134, 133], [105, 105]]\n",
      "[[134, 134, 133], [105, 105, 106]]\n",
      "[[134, 134, 133, 133], [105, 105, 106]]\n",
      "[[134, 134, 133, 133], [105, 105, 106, 106]]\n",
      "[[134, 134, 133, 133, 133], [105, 105, 106, 106]]\n",
      "[[134, 134, 133, 133, 133], [105, 105, 106, 106, 106]]\n",
      "[[134, 134, 133, 133, 133, 132], [105, 105, 106, 106, 106]]\n",
      "[[134, 134, 133, 133, 133, 132], [105, 105, 106, 106, 106, 107]]\n",
      "[[134, 134, 133, 133, 133, 132, 132], [105, 105, 106, 106, 106, 107]]\n",
      "[[134, 134, 133, 133, 133, 132, 132], [105, 105, 106, 106, 106, 107, 107]]\n",
      "[[134, 134, 133, 133, 133, 132, 132, 132], [105, 105, 106, 106, 106, 107, 107]]\n",
      "[[134, 134, 133, 133, 133, 132, 132, 132], [105, 105, 106, 106, 106, 107, 107, 107]]\n",
      "[[134, 134, 133, 133, 133, 132, 132, 132, 131], [105, 105, 106, 106, 106, 107, 107, 107]]\n",
      "[[134, 134, 133, 133, 133, 132, 132, 132, 131], [105, 105, 106, 106, 106, 107, 107, 107, 107]]\n",
      "[[134, 134, 133, 133, 133, 132, 132, 132, 131, 131], [105, 105, 106, 106, 106, 107, 107, 107, 107]]\n",
      "[[134, 134, 133, 133, 133, 132, 132, 132, 131, 131], [105, 105, 106, 106, 106, 107, 107, 107, 107, 108]]\n",
      "[[134, 134, 133, 133, 133, 132, 132, 132, 131, 131, 131], [105, 105, 106, 106, 106, 107, 107, 107, 107, 108]]\n",
      "[[134, 134, 133, 133, 133, 132, 132, 132, 131, 131, 131], [105, 105, 106, 106, 106, 107, 107, 107, 107, 108, 108]]\n"
     ]
    }
   ],
   "source": [
    "x = [[] for i in range(num_robots)]\n",
    "print([list()]*2)\n",
    "y = [list()]*num_robots\n",
    "yaw = [list()]*num_robots\n",
    "e = np.linspace(8.0, 9.0, 11)\n",
    "\n",
    "print(x)\n",
    "for i in e:\n",
    "    for j in range(num_robots):\n",
    "        data = data_poses[\"x\"][round(i,1)][j]\n",
    "        x[j].append(data)\n",
    "        print(x)"
   ]
  },
  {
   "cell_type": "code",
   "execution_count": 47,
   "metadata": {},
   "outputs": [
    {
     "name": "stdout",
     "output_type": "stream",
     "text": [
      "[[134, 105, 134, 105, 133, 106, 133, 106, 133, 106, 132, 107, 132, 107, 132, 107, 131, 107, 131, 108, 131, 108], [134, 105, 134, 105, 133, 106, 133, 106, 133, 106, 132, 107, 132, 107, 132, 107, 131, 107, 131, 108, 131, 108]]\n"
     ]
    }
   ],
   "source": [
    "print(x)\n"
   ]
  },
  {
   "cell_type": "code",
   "execution_count": 85,
   "metadata": {},
   "outputs": [
    {
     "name": "stdout",
     "output_type": "stream",
     "text": [
      "[[], []]\n",
      "[[1], []]\n",
      "[[1], [3]]\n"
     ]
    }
   ],
   "source": [
    "x = [[] for i in range(num_robots)]\n",
    "print(x)\n",
    "x[0] = [1]\n",
    "print(x)\n",
    "x[1].append(3)\n",
    "print(x)\n",
    "x_2 = x[1]\n",
    "x_1.append([12])\n"
   ]
  },
  {
   "cell_type": "code",
   "execution_count": 83,
   "metadata": {},
   "outputs": [
    {
     "name": "stdout",
     "output_type": "stream",
     "text": [
      "[[[12]], [[12]]]\n",
      "[[12]]\n",
      "[[12]]\n"
     ]
    }
   ],
   "source": [
    "print(x)\n",
    "print(x_1)\n",
    "print(x_2)"
   ]
  },
  {
   "cell_type": "code",
   "execution_count": null,
   "metadata": {},
   "outputs": [],
   "source": []
  }
 ],
 "metadata": {
  "kernelspec": {
   "display_name": "Python 3",
   "language": "python",
   "name": "python3"
  },
  "language_info": {
   "codemirror_mode": {
    "name": "ipython",
    "version": 2
   },
   "file_extension": ".py",
   "mimetype": "text/x-python",
   "name": "python",
   "nbconvert_exporter": "python",
   "pygments_lexer": "ipython2",
   "version": "2.7.17"
  }
 },
 "nbformat": 4,
 "nbformat_minor": 2
}
